{
 "cells": [
  {
   "cell_type": "markdown",
   "metadata": {
    "id": "FlvYiRmAZb1_"
   },
   "source": [
    "# Regression Homework\n",
    "\n",
    "This is the first assignment for CAP 4630 and we will develop two basic models with regression. \\\n",
    "You will use **\"Tasks\"** and **\"Hints\"** to finish the work. **(Total 90 Points)**\n",
    "\n",
    "\n",
    "**Task Overview:**\n",
    "- Singal Variable Nonlinear Regression\n",
    "- Multiple Variable Linear Regression\n"
   ]
  },
  {
   "cell_type": "markdown",
   "metadata": {
    "id": "fXjt4ptVZb2D"
   },
   "source": [
    "## 1 - Packages ##\n",
    "\n",
    "Import useful packages for scientific computing and data processing. **(5 Points)**\n",
    "\n",
    "**Tasks:**\n",
    "1. Import numpy and rename it to np.\n",
    "2. Import pandas and rename it to pd.\n",
    "3. Import the pyplot function in the libraray of matplotlib and rename it to plt.\n",
    "\n",
    "References:\n",
    "- [numpy](www.numpy.org) is the fundamental package for scientific computing with Python.\n",
    "- [matplotlib](http://matplotlib.org) is a famous library to plot graphs in Python.\n",
    "\n",
    "**Attention:**\n",
    "1. After this renaming, you will use the new name to call functions. For example, **numpy** will become **np** in the following sections.\n"
   ]
  },
  {
   "cell_type": "code",
   "execution_count": null,
   "metadata": {
    "id": "uLlqizpnZb2E"
   },
   "outputs": [
    {
     "ename": "",
     "evalue": "",
     "output_type": "error",
     "traceback": [
      "\u001b[1;31mRunning cells with '/usr/bin/python3' requires the ipykernel package.\n",
      "\u001b[1;31mRun the following command to install 'ipykernel' into the Python environment. \n",
      "\u001b[1;31mCommand: '/usr/bin/python3 -m pip install ipykernel -U --user --force-reinstall'"
     ]
    }
   ],
   "source": [
    "# Coding here\n",
    "import numpy as np\n",
    "import pandas as pd\n",
    "import matplotlib.pyplot as plt"
   ]
  },
  {
   "cell_type": "markdown",
   "metadata": {
    "collapsed": true,
    "id": "hyUEhxmKZb2F"
   },
   "source": [
    "## 2 - Data Preparation ##\n",
    "\n",
    "Prepare the data for regression task. **(10 Points)**\n",
    "\n",
    "**Tasks:**\n",
    "1. Load data for nonlinear regression.\n",
    "2. Generate the scatter plot of the data.\n",
    "\n",
    "**Hints:**\n",
    "1. The data file is \"data_nonlinear.csv\".\n",
    "2. The data format is as follows: 1st column is X and 2nd column is Y."
   ]
  },
  {
   "cell_type": "code",
   "execution_count": null,
   "metadata": {
    "id": "oo9NKMBDZb2F"
   },
   "outputs": [
    {
     "ename": "",
     "evalue": "",
     "output_type": "error",
     "traceback": [
      "\u001b[1;31mRunning cells with '/usr/bin/python3' requires the ipykernel package.\n",
      "\u001b[1;31mRun the following command to install 'ipykernel' into the Python environment. \n",
      "\u001b[1;31mCommand: '/usr/bin/python3 -m pip install ipykernel -U --user --force-reinstall'"
     ]
    }
   ],
   "source": [
    "# Coding here\n",
    "data = pd.read_csv('data_nonlinear.csv')\n",
    "plt.scatter(data.X, data.Y)\n",
    "X = data.X\n",
    "Y = data.Y\n",
    "plt.show()\n",
    "\n"
   ]
  },
  {
   "cell_type": "markdown",
   "metadata": {
    "id": "pqSaGN-fZb2F"
   },
   "source": [
    "## 3 - Single Variable Nonlinear Regression ##\n",
    "\n",
    "\n",
    "Develop a regression model, estimate coefficients with data, and derive the relationship. **(25 Points)**\n",
    "\n",
    "**Tasks:**\n",
    "1. Establish a relationship between Y and X with a cubic function.\n",
    "2. Compute MSE loss with observation-prediction pairs.\n",
    "3. Implement **Gradient Descent (GD)** to achieve optimal solution with the learning rate of **0.000001 (1e-6)** and **10000 (1e4)** epochs.\n",
    "4. Print out the optimal solution at final step.\n",
    "\n",
    "**Hints:**  \n",
    "1. Given the example of linear regression in class, modify the function to an equation for a spline with coefficients of **a** , **b**, **c** and **d** for cubic, qudractic, linear, and constant term.\n",
    "2. Initialize the model with zero. For example, a=0, b=0, c=0 and d=0.\n",
    "3. It may take **10-15 seconds**  to finish the running for 10000 steps. Be patient.\n",
    "4. For debugging, the results of **a**, **b**, **c**, **d** for first five steps are as follows:\n",
    "\n",
    "Epoch  0 :  2.8045093168662314 0.15006631239563697 0.04047903434004733 0.0030023401200892003 \\\n",
    "Epoch  1 :  4.905935374329749 0.2803623842843468 0.07068280026181122 0.0057565282228493 \\\n",
    "Epoch  2 :  6.480417434500056 0.395779237410925 0.09318576969022647 0.008323648642107889 \\\n",
    "Epoch  3 :  7.65996806232127 0.49998280146312246 0.10991745268097952 0.010749486523089888 \\\n",
    "Epoch  4 :  8.543527816733905 0.5957208253596222 0.12232397430880633 0.013068360586717544\n",
    "\n"
   ]
  },
  {
   "cell_type": "code",
   "execution_count": null,
   "metadata": {
    "id": "xVoEPW0QZb2G"
   },
   "outputs": [
    {
     "ename": "",
     "evalue": "",
     "output_type": "error",
     "traceback": [
      "\u001b[1;31mRunning cells with '/usr/bin/python3' requires the ipykernel package.\n",
      "\u001b[1;31mRun the following command to install 'ipykernel' into the Python environment. \n",
      "\u001b[1;31mCommand: '/usr/bin/python3 -m pip install ipykernel -U --user --force-reinstall'"
     ]
    }
   ],
   "source": [
    "# Coding here\n",
    "a, b, c, d = 0, 0, 0, 0 #model initialization\n",
    "L = 0.000001\n",
    "epochs = 10000 \n",
    "\n",
    "n = float(len(X))\n",
    "\n",
    "for i in range (epochs):\n",
    "    Y_pred = a*X**3 + b*X**2 + c*X + d\n",
    "   \n",
    "    D_a = (-2/n) * sum(X**3 * (Y - Y_pred)) \n",
    "    D_b = (-2/n) * sum(X**2 * (Y - Y_pred))\n",
    "    D_c = (-2/n) * sum(X * (Y - Y_pred))\n",
    "    D_d = (-2/n) * sum(Y - Y_pred)\n",
    "    \n",
    "    \n",
    "    a -= L * D_a\n",
    "    b -= L * D_b\n",
    "    c -= L * D_c\n",
    "    d -= L * D_d\n",
    " \n"
   ]
  },
  {
   "cell_type": "markdown",
   "metadata": {
    "id": "Yf1L5EBiZb2H"
   },
   "source": [
    "## 4 - Prediction Results ##\n",
    "\n",
    "Derive prediction function and generate estmated results. **(5 Points)**\n",
    "\n",
    "**Tasks:**\n",
    "1. Derive prediction function with the obtained coefficients above.\n",
    "2. Generate scatter plots for original data pairs X-Y and prediction results X-Y_Pred in the same figure."
   ]
  },
  {
   "cell_type": "code",
   "execution_count": null,
   "metadata": {
    "id": "imqYGAXaZb2I"
   },
   "outputs": [
    {
     "ename": "",
     "evalue": "",
     "output_type": "error",
     "traceback": [
      "\u001b[1;31mRunning cells with '/usr/bin/python3' requires the ipykernel package.\n",
      "\u001b[1;31mRun the following command to install 'ipykernel' into the Python environment. \n",
      "\u001b[1;31mCommand: '/usr/bin/python3 -m pip install ipykernel -U --user --force-reinstall'"
     ]
    }
   ],
   "source": [
    "# Coding here\n",
    "def non_L_prediciton (a, b, c, d, X, Y):\n",
    "    return a*(X**3) + b*(X**2) + c*X + d\n",
    "\n",
    "Y_pred = non_L_prediciton(a, b, c, d, X, Y)\n",
    "plt.scatter(X, Y)\n",
    "plt.plot([min(X), max(X)], [min(Y_pred), max(Y_pred)], color='red') # predicted\n",
    "plt.show()"
   ]
  },
  {
   "cell_type": "markdown",
   "metadata": {
    "id": "6F9fAfw4Zb2I"
   },
   "source": [
    "## 5 - Multiple Variables Linear Regression ##\n",
    "\n",
    "## 5.1 Data Preparation\n",
    "\n",
    "Prepare the data for regression task. **(10 Points)**\n",
    "\n",
    "**Tasks:**\n",
    "1. Load data for multiple variable linear regression.\n",
    "2. Generate the 3D scatter plot of the data.\n",
    "\n",
    "**Hints:**\n",
    "1. The data file is \"data_two_variables.csv\".\n",
    "2. The data format is as follows: 1st column is X1, 2nd column is X2, and 3rd colum is Y.\n",
    "3. You may use \"mplot3d\" in the toolkit of \"mpl_toolkits\" and import \"Axes3D\" to faciliate 3D scatter plot. More details can be found in the reference of https://matplotlib.org/mpl_toolkits/mplot3d/tutorial.html\n",
    "4. [Optional, NO Credit]You may rotate the figure you generated by using \"%matplotlib qt\" before you plot it. Remember to install the related package by \"!pip install PyQt5\". Only work on Jupyter(locally). Does not work on Google Colab. [Reference Website](https://stackoverflow.com/questions/14261903/how-can-i-open-the-interactive-matplotlib-window-in-ipython-notebook)\n",
    "\n",
    "![](https://drive.google.com/uc?export=view&id=1sHwWfZXpU3-8SqzFrmCxIvxmQWfe2Nns)\n",
    "![](https://drive.google.com/uc?export=view&id=1OwHP0g-K2um-LnKiDhE6UfkDFxk4Opce)\n"
   ]
  },
  {
   "cell_type": "code",
   "execution_count": null,
   "metadata": {
    "id": "peLvRxoGZb2J"
   },
   "outputs": [
    {
     "ename": "",
     "evalue": "",
     "output_type": "error",
     "traceback": [
      "\u001b[1;31mRunning cells with '/usr/bin/python3' requires the ipykernel package.\n",
      "\u001b[1;31mRun the following command to install 'ipykernel' into the Python environment. \n",
      "\u001b[1;31mCommand: '/usr/bin/python3 -m pip install ipykernel -U --user --force-reinstall'"
     ]
    }
   ],
   "source": [
    "# Coding here\n",
    "data_set2 = pd.read_csv(\"./data_two_variables.csv\")\n",
    "\n",
    "X1 = data_set2.X1\n",
    "X2 = data_set2.X2\n",
    "Y = data_set2.Y\n",
    "\n",
    "fig = plt.figure()\n",
    "ax = plt.axes(projection = \"3d\")\n",
    "\n",
    "ax.scatter3D(X1, X2, Y)\n",
    "plt.show()\n"
   ]
  },
  {
   "cell_type": "markdown",
   "metadata": {
    "id": "7J88iMLMZb2K"
   },
   "source": [
    "\n",
    "## 5.2 Linear Regression\n",
    "\n",
    "Develop a regression model, estimate coefficients with data, and derive the relationship. **(25 Points)**\n",
    "\n",
    "**Tasks:**\n",
    "1. Establish a linear function to describe the relationship among Y, X1, and X2.\n",
    "2. Compute MSE loss with observation-prediction pairs.\n",
    "3. Implement **Gradient Descent (GD)** to achieve optimal solution with the learning rate of **0.001 (1e-3)** and **10000 (1e4)** epochs.\n",
    "4. Print out the optimal solution at final step.\n",
    "\n",
    "\n",
    "**Hints:**  \n",
    "1. Given the example of linear regression in class, modify the function to a linear equation with two independent variables X1 and X2. The coefficients of X1 and X2 are **m1** and **m2**, respectively. The constant term is **m3**.\n",
    "2. Initialize the model with zero. For example, m1=0, m2=0, and m3=0.\n",
    "3. It may take **10-15 seconds**  to finish the running for 10000 steps. Be patient.\n",
    "4. For debugging, the results of **m1**, **m2**, and **m3** for first five steps are as follows:\n",
    "\n",
    "Epoch 0: 7.43847600018326 15.595631430047339 1.4265844915879997 \\\n",
    "Epoch 1: 12.954483113402425 26.731746959534096 2.481143659135288 \\\n",
    "Epoch 2: 17.084193849045587 34.664109745712814 3.2680146970514863 \\\n",
    "Epoch 3: 20.213137348549306 40.2953527521597 3.8622050343066556 \\\n",
    "Epoch 4: 22.618552798604984 44.274269323103674 4.317638791453634 \\\n",
    "Epoch 5: 32.734943422646175 34.69592128962032 222.91661391579638"
   ]
  },
  {
   "cell_type": "code",
   "execution_count": null,
   "metadata": {
    "id": "fSexkEyOZb2K"
   },
   "outputs": [
    {
     "ename": "",
     "evalue": "",
     "output_type": "error",
     "traceback": [
      "\u001b[1;31mRunning cells with '/usr/bin/python3' requires the ipykernel package.\n",
      "\u001b[1;31mRun the following command to install 'ipykernel' into the Python environment. \n",
      "\u001b[1;31mCommand: '/usr/bin/python3 -m pip install ipykernel -U --user --force-reinstall'"
     ]
    }
   ],
   "source": [
    "# Coding here\n",
    "a, b, c = 0, 0, 0\n",
    "L = 0.001\n",
    "epochs = 10000\n",
    "\n",
    "n = float(len(X))\n",
    "\n",
    "for i in range (epochs):\n",
    "    Y_pred = a*X1 + b*X2 + c\n",
    "    \n",
    "    D_a = (-2/n) * sum(X1 * (Y - Y_pred))\n",
    "    D_b = (-2/n) * sum(X2 * (Y - Y_pred))\n",
    "    D_c = (-2/n) * sum(Y - Y_pred)\n",
    "    \n",
    "    a-= L * D_a\n",
    "    b -= L * D_b\n",
    "    c -= L * D_c\n",
    "    \n",
    "    if (i < 5):\n",
    "        print(a, b, c)\n"
   ]
  },
  {
   "cell_type": "markdown",
   "metadata": {
    "id": "jUh42RGgZb2L"
   },
   "source": [
    "\n",
    "## 5.3 - Prediction Results ##\n",
    "\n",
    "Derive prediction function and generate estmated results. **(10 Points)**\n",
    "\n",
    "**Tasks:**\n",
    "1. Derive prediction function with the obtained coefficients above.\n",
    "2. Generate 3D scatter plots for original data pairs X-Y and prediction results X-Y_Pred in the same figure.\n",
    "\n",
    "**Hint:**\n",
    "1. You may follow the example above.\n",
    "2. An example is shown below.\n",
    "![](https://drive.google.com/uc?export=view&id=1xAl7eJmDmFPTNipd0SljAdyHs3PhRiMg)\n",
    "![](https://drive.google.com/uc?export=view&id=1Eb9qZqTCmAbwJUkoTQ6zPys3ezWqTCkr)"
   ]
  },
  {
   "cell_type": "code",
   "execution_count": null,
   "metadata": {
    "id": "NswMQm-1Zb2L"
   },
   "outputs": [
    {
     "ename": "",
     "evalue": "",
     "output_type": "error",
     "traceback": [
      "\u001b[1;31mRunning cells with '/usr/bin/python3' requires the ipykernel package.\n",
      "\u001b[1;31mRun the following command to install 'ipykernel' into the Python environment. \n",
      "\u001b[1;31mCommand: '/usr/bin/python3 -m pip install ipykernel -U --user --force-reinstall'"
     ]
    }
   ],
   "source": [
    "# Coding here\n",
    "def L_prediction (a, b, c, X1, X2):\n",
    "    return a* X1 + b * X2 + c\n",
    "\n",
    "\n"
   ]
  }
 ],
 "metadata": {
  "colab": {
   "provenance": []
  },
  "coursera": {
   "course_slug": "neural-networks-deep-learning",
   "graded_item_id": "XaIWT",
   "launcher_item_id": "zAgPl"
  },
  "kernelspec": {
   "display_name": "Python 3 (ipykernel)",
   "language": "python",
   "name": "python3"
  },
  "language_info": {
   "codemirror_mode": {
    "name": "ipython",
    "version": 3
   },
   "file_extension": ".py",
   "mimetype": "text/x-python",
   "name": "python",
   "nbconvert_exporter": "python",
   "pygments_lexer": "ipython3",
   "version": "3.9.6"
  }
 },
 "nbformat": 4,
 "nbformat_minor": 1
}
